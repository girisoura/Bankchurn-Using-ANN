{
 "cells": [
  {
   "cell_type": "code",
   "execution_count": 2,
   "metadata": {
    "_cell_guid": "b1076dfc-b9ad-4769-8c92-a6c4dae69d19",
    "_uuid": "8f2839f25d086af736a60e9eeb907d3b93b6e0e5",
    "execution": {
     "iopub.execute_input": "2023-06-25T06:11:13.087626Z",
     "iopub.status.busy": "2023-06-25T06:11:13.086730Z",
     "iopub.status.idle": "2023-06-25T06:11:13.102774Z",
     "shell.execute_reply": "2023-06-25T06:11:13.101058Z",
     "shell.execute_reply.started": "2023-06-25T06:11:13.087569Z"
    }
   },
   "outputs": [
    {
     "name": "stdout",
     "output_type": "stream",
     "text": [
      "/kaggle/input/bank-customer-churn/Customer-Churn-Records.csv\n"
     ]
    }
   ],
   "source": [
    "# This Python 3 environment comes with many helpful analytics libraries installed\n",
    "# It is defined by the kaggle/python Docker image: https://github.com/kaggle/docker-python\n",
    "# For example, here's several helpful packages to load\n",
    "\n",
    "import numpy as np # linear algebra\n",
    "import pandas as pd # data processing, CSV file I/O (e.g. pd.read_csv)\n",
    "\n",
    "# Input data files are available in the read-only \"../input/\" directory\n",
    "# For example, running this (by clicking run or pressing Shift+Enter) will list all files under the input directory\n",
    "\n",
    "import os\n",
    "for dirname, _, filenames in os.walk('/kaggle/input'):\n",
    "    for filename in filenames:\n",
    "        print(os.path.join(dirname, filename))\n",
    "\n",
    "# You can write up to 20GB to the current directory (/kaggle/working/) that gets preserved as output when you create a version using \"Save & Run All\" \n",
    "# You can also write temporary files to /kaggle/temp/, but they won't be saved outside of the current session"
   ]
  },
  {
   "cell_type": "code",
   "execution_count": 3,
   "metadata": {
    "execution": {
     "iopub.execute_input": "2023-06-25T06:11:13.105398Z",
     "iopub.status.busy": "2023-06-25T06:11:13.104829Z",
     "iopub.status.idle": "2023-06-25T06:11:13.112329Z",
     "shell.execute_reply": "2023-06-25T06:11:13.110629Z",
     "shell.execute_reply.started": "2023-06-25T06:11:13.105345Z"
    }
   },
   "outputs": [],
   "source": [
    "import pandas as pd\n",
    "import numpy as np"
   ]
  },
  {
   "cell_type": "code",
   "execution_count": 4,
   "metadata": {
    "execution": {
     "iopub.execute_input": "2023-06-25T06:11:42.775284Z",
     "iopub.status.busy": "2023-06-25T06:11:42.774733Z",
     "iopub.status.idle": "2023-06-25T06:11:42.841595Z",
     "shell.execute_reply": "2023-06-25T06:11:42.840640Z",
     "shell.execute_reply.started": "2023-06-25T06:11:42.775249Z"
    }
   },
   "outputs": [],
   "source": [
    "df=pd.read_csv('/kaggle/input/bank-customer-churn/Customer-Churn-Records.csv')"
   ]
  },
  {
   "cell_type": "code",
   "execution_count": 5,
   "metadata": {
    "execution": {
     "iopub.execute_input": "2023-06-25T06:11:48.942154Z",
     "iopub.status.busy": "2023-06-25T06:11:48.941723Z",
     "iopub.status.idle": "2023-06-25T06:11:48.984134Z",
     "shell.execute_reply": "2023-06-25T06:11:48.982983Z",
     "shell.execute_reply.started": "2023-06-25T06:11:48.942120Z"
    }
   },
   "outputs": [
    {
     "data": {
      "text/html": [
       "<div>\n",
       "<style scoped>\n",
       "    .dataframe tbody tr th:only-of-type {\n",
       "        vertical-align: middle;\n",
       "    }\n",
       "\n",
       "    .dataframe tbody tr th {\n",
       "        vertical-align: top;\n",
       "    }\n",
       "\n",
       "    .dataframe thead th {\n",
       "        text-align: right;\n",
       "    }\n",
       "</style>\n",
       "<table border=\"1\" class=\"dataframe\">\n",
       "  <thead>\n",
       "    <tr style=\"text-align: right;\">\n",
       "      <th></th>\n",
       "      <th>RowNumber</th>\n",
       "      <th>CustomerId</th>\n",
       "      <th>Surname</th>\n",
       "      <th>CreditScore</th>\n",
       "      <th>Geography</th>\n",
       "      <th>Gender</th>\n",
       "      <th>Age</th>\n",
       "      <th>Tenure</th>\n",
       "      <th>Balance</th>\n",
       "      <th>NumOfProducts</th>\n",
       "      <th>HasCrCard</th>\n",
       "      <th>IsActiveMember</th>\n",
       "      <th>EstimatedSalary</th>\n",
       "      <th>Exited</th>\n",
       "      <th>Complain</th>\n",
       "      <th>Satisfaction Score</th>\n",
       "      <th>Card Type</th>\n",
       "      <th>Point Earned</th>\n",
       "    </tr>\n",
       "  </thead>\n",
       "  <tbody>\n",
       "    <tr>\n",
       "      <th>0</th>\n",
       "      <td>1</td>\n",
       "      <td>15634602</td>\n",
       "      <td>Hargrave</td>\n",
       "      <td>619</td>\n",
       "      <td>France</td>\n",
       "      <td>Female</td>\n",
       "      <td>42</td>\n",
       "      <td>2</td>\n",
       "      <td>0.00</td>\n",
       "      <td>1</td>\n",
       "      <td>1</td>\n",
       "      <td>1</td>\n",
       "      <td>101348.88</td>\n",
       "      <td>1</td>\n",
       "      <td>1</td>\n",
       "      <td>2</td>\n",
       "      <td>DIAMOND</td>\n",
       "      <td>464</td>\n",
       "    </tr>\n",
       "    <tr>\n",
       "      <th>1</th>\n",
       "      <td>2</td>\n",
       "      <td>15647311</td>\n",
       "      <td>Hill</td>\n",
       "      <td>608</td>\n",
       "      <td>Spain</td>\n",
       "      <td>Female</td>\n",
       "      <td>41</td>\n",
       "      <td>1</td>\n",
       "      <td>83807.86</td>\n",
       "      <td>1</td>\n",
       "      <td>0</td>\n",
       "      <td>1</td>\n",
       "      <td>112542.58</td>\n",
       "      <td>0</td>\n",
       "      <td>1</td>\n",
       "      <td>3</td>\n",
       "      <td>DIAMOND</td>\n",
       "      <td>456</td>\n",
       "    </tr>\n",
       "    <tr>\n",
       "      <th>2</th>\n",
       "      <td>3</td>\n",
       "      <td>15619304</td>\n",
       "      <td>Onio</td>\n",
       "      <td>502</td>\n",
       "      <td>France</td>\n",
       "      <td>Female</td>\n",
       "      <td>42</td>\n",
       "      <td>8</td>\n",
       "      <td>159660.80</td>\n",
       "      <td>3</td>\n",
       "      <td>1</td>\n",
       "      <td>0</td>\n",
       "      <td>113931.57</td>\n",
       "      <td>1</td>\n",
       "      <td>1</td>\n",
       "      <td>3</td>\n",
       "      <td>DIAMOND</td>\n",
       "      <td>377</td>\n",
       "    </tr>\n",
       "    <tr>\n",
       "      <th>3</th>\n",
       "      <td>4</td>\n",
       "      <td>15701354</td>\n",
       "      <td>Boni</td>\n",
       "      <td>699</td>\n",
       "      <td>France</td>\n",
       "      <td>Female</td>\n",
       "      <td>39</td>\n",
       "      <td>1</td>\n",
       "      <td>0.00</td>\n",
       "      <td>2</td>\n",
       "      <td>0</td>\n",
       "      <td>0</td>\n",
       "      <td>93826.63</td>\n",
       "      <td>0</td>\n",
       "      <td>0</td>\n",
       "      <td>5</td>\n",
       "      <td>GOLD</td>\n",
       "      <td>350</td>\n",
       "    </tr>\n",
       "    <tr>\n",
       "      <th>4</th>\n",
       "      <td>5</td>\n",
       "      <td>15737888</td>\n",
       "      <td>Mitchell</td>\n",
       "      <td>850</td>\n",
       "      <td>Spain</td>\n",
       "      <td>Female</td>\n",
       "      <td>43</td>\n",
       "      <td>2</td>\n",
       "      <td>125510.82</td>\n",
       "      <td>1</td>\n",
       "      <td>1</td>\n",
       "      <td>1</td>\n",
       "      <td>79084.10</td>\n",
       "      <td>0</td>\n",
       "      <td>0</td>\n",
       "      <td>5</td>\n",
       "      <td>GOLD</td>\n",
       "      <td>425</td>\n",
       "    </tr>\n",
       "  </tbody>\n",
       "</table>\n",
       "</div>"
      ],
      "text/plain": [
       "   RowNumber  CustomerId   Surname  CreditScore Geography  Gender  Age  \\\n",
       "0          1    15634602  Hargrave          619    France  Female   42   \n",
       "1          2    15647311      Hill          608     Spain  Female   41   \n",
       "2          3    15619304      Onio          502    France  Female   42   \n",
       "3          4    15701354      Boni          699    France  Female   39   \n",
       "4          5    15737888  Mitchell          850     Spain  Female   43   \n",
       "\n",
       "   Tenure    Balance  NumOfProducts  HasCrCard  IsActiveMember  \\\n",
       "0       2       0.00              1          1               1   \n",
       "1       1   83807.86              1          0               1   \n",
       "2       8  159660.80              3          1               0   \n",
       "3       1       0.00              2          0               0   \n",
       "4       2  125510.82              1          1               1   \n",
       "\n",
       "   EstimatedSalary  Exited  Complain  Satisfaction Score Card Type  \\\n",
       "0        101348.88       1         1                   2   DIAMOND   \n",
       "1        112542.58       0         1                   3   DIAMOND   \n",
       "2        113931.57       1         1                   3   DIAMOND   \n",
       "3         93826.63       0         0                   5      GOLD   \n",
       "4         79084.10       0         0                   5      GOLD   \n",
       "\n",
       "   Point Earned  \n",
       "0           464  \n",
       "1           456  \n",
       "2           377  \n",
       "3           350  \n",
       "4           425  "
      ]
     },
     "execution_count": 5,
     "metadata": {},
     "output_type": "execute_result"
    }
   ],
   "source": [
    "df.head()"
   ]
  },
  {
   "cell_type": "code",
   "execution_count": 8,
   "metadata": {
    "execution": {
     "iopub.execute_input": "2023-06-25T06:14:54.518635Z",
     "iopub.status.busy": "2023-06-25T06:14:54.518157Z",
     "iopub.status.idle": "2023-06-25T06:14:54.530373Z",
     "shell.execute_reply": "2023-06-25T06:14:54.528919Z",
     "shell.execute_reply.started": "2023-06-25T06:14:54.518601Z"
    }
   },
   "outputs": [],
   "source": [
    "df.drop(columns=['RowNumber','Surname','CustomerId'],inplace=True)"
   ]
  },
  {
   "cell_type": "code",
   "execution_count": 9,
   "metadata": {
    "execution": {
     "iopub.execute_input": "2023-06-25T06:15:04.591803Z",
     "iopub.status.busy": "2023-06-25T06:15:04.591320Z",
     "iopub.status.idle": "2023-06-25T06:15:04.627946Z",
     "shell.execute_reply": "2023-06-25T06:15:04.626777Z",
     "shell.execute_reply.started": "2023-06-25T06:15:04.591767Z"
    }
   },
   "outputs": [
    {
     "name": "stdout",
     "output_type": "stream",
     "text": [
      "<class 'pandas.core.frame.DataFrame'>\n",
      "RangeIndex: 10000 entries, 0 to 9999\n",
      "Data columns (total 15 columns):\n",
      " #   Column              Non-Null Count  Dtype  \n",
      "---  ------              --------------  -----  \n",
      " 0   CreditScore         10000 non-null  int64  \n",
      " 1   Geography           10000 non-null  object \n",
      " 2   Gender              10000 non-null  object \n",
      " 3   Age                 10000 non-null  int64  \n",
      " 4   Tenure              10000 non-null  int64  \n",
      " 5   Balance             10000 non-null  float64\n",
      " 6   NumOfProducts       10000 non-null  int64  \n",
      " 7   HasCrCard           10000 non-null  int64  \n",
      " 8   IsActiveMember      10000 non-null  int64  \n",
      " 9   EstimatedSalary     10000 non-null  float64\n",
      " 10  Exited              10000 non-null  int64  \n",
      " 11  Complain            10000 non-null  int64  \n",
      " 12  Satisfaction Score  10000 non-null  int64  \n",
      " 13  Card Type           10000 non-null  object \n",
      " 14  Point Earned        10000 non-null  int64  \n",
      "dtypes: float64(2), int64(10), object(3)\n",
      "memory usage: 1.1+ MB\n"
     ]
    }
   ],
   "source": [
    "df.info()"
   ]
  },
  {
   "cell_type": "code",
   "execution_count": 10,
   "metadata": {
    "execution": {
     "iopub.execute_input": "2023-06-25T06:17:14.520472Z",
     "iopub.status.busy": "2023-06-25T06:17:14.519929Z",
     "iopub.status.idle": "2023-06-25T06:17:14.527008Z",
     "shell.execute_reply": "2023-06-25T06:17:14.525365Z",
     "shell.execute_reply.started": "2023-06-25T06:17:14.520429Z"
    }
   },
   "outputs": [],
   "source": [
    "cat_cols=['Geography','Gender','Card Type']"
   ]
  },
  {
   "cell_type": "code",
   "execution_count": 12,
   "metadata": {
    "execution": {
     "iopub.execute_input": "2023-06-25T06:19:17.147121Z",
     "iopub.status.busy": "2023-06-25T06:19:17.146595Z",
     "iopub.status.idle": "2023-06-25T06:19:17.189133Z",
     "shell.execute_reply": "2023-06-25T06:19:17.187841Z",
     "shell.execute_reply.started": "2023-06-25T06:19:17.147080Z"
    }
   },
   "outputs": [],
   "source": [
    "from sklearn.preprocessing import OrdinalEncoder"
   ]
  },
  {
   "cell_type": "code",
   "execution_count": 13,
   "metadata": {
    "execution": {
     "iopub.execute_input": "2023-06-25T06:19:20.455415Z",
     "iopub.status.busy": "2023-06-25T06:19:20.454934Z",
     "iopub.status.idle": "2023-06-25T06:19:20.482072Z",
     "shell.execute_reply": "2023-06-25T06:19:20.480775Z",
     "shell.execute_reply.started": "2023-06-25T06:19:20.455379Z"
    }
   },
   "outputs": [],
   "source": [
    "enc=OrdinalEncoder()\n",
    "df[cat_cols]=enc.fit_transform(df[cat_cols])"
   ]
  },
  {
   "cell_type": "code",
   "execution_count": 14,
   "metadata": {
    "execution": {
     "iopub.execute_input": "2023-06-25T06:19:35.161090Z",
     "iopub.status.busy": "2023-06-25T06:19:35.160652Z",
     "iopub.status.idle": "2023-06-25T06:19:35.183882Z",
     "shell.execute_reply": "2023-06-25T06:19:35.182612Z",
     "shell.execute_reply.started": "2023-06-25T06:19:35.161059Z"
    }
   },
   "outputs": [
    {
     "data": {
      "text/html": [
       "<div>\n",
       "<style scoped>\n",
       "    .dataframe tbody tr th:only-of-type {\n",
       "        vertical-align: middle;\n",
       "    }\n",
       "\n",
       "    .dataframe tbody tr th {\n",
       "        vertical-align: top;\n",
       "    }\n",
       "\n",
       "    .dataframe thead th {\n",
       "        text-align: right;\n",
       "    }\n",
       "</style>\n",
       "<table border=\"1\" class=\"dataframe\">\n",
       "  <thead>\n",
       "    <tr style=\"text-align: right;\">\n",
       "      <th></th>\n",
       "      <th>CreditScore</th>\n",
       "      <th>Geography</th>\n",
       "      <th>Gender</th>\n",
       "      <th>Age</th>\n",
       "      <th>Tenure</th>\n",
       "      <th>Balance</th>\n",
       "      <th>NumOfProducts</th>\n",
       "      <th>HasCrCard</th>\n",
       "      <th>IsActiveMember</th>\n",
       "      <th>EstimatedSalary</th>\n",
       "      <th>Exited</th>\n",
       "      <th>Complain</th>\n",
       "      <th>Satisfaction Score</th>\n",
       "      <th>Card Type</th>\n",
       "      <th>Point Earned</th>\n",
       "    </tr>\n",
       "  </thead>\n",
       "  <tbody>\n",
       "    <tr>\n",
       "      <th>0</th>\n",
       "      <td>619</td>\n",
       "      <td>0.0</td>\n",
       "      <td>0.0</td>\n",
       "      <td>42</td>\n",
       "      <td>2</td>\n",
       "      <td>0.00</td>\n",
       "      <td>1</td>\n",
       "      <td>1</td>\n",
       "      <td>1</td>\n",
       "      <td>101348.88</td>\n",
       "      <td>1</td>\n",
       "      <td>1</td>\n",
       "      <td>2</td>\n",
       "      <td>0.0</td>\n",
       "      <td>464</td>\n",
       "    </tr>\n",
       "    <tr>\n",
       "      <th>1</th>\n",
       "      <td>608</td>\n",
       "      <td>2.0</td>\n",
       "      <td>0.0</td>\n",
       "      <td>41</td>\n",
       "      <td>1</td>\n",
       "      <td>83807.86</td>\n",
       "      <td>1</td>\n",
       "      <td>0</td>\n",
       "      <td>1</td>\n",
       "      <td>112542.58</td>\n",
       "      <td>0</td>\n",
       "      <td>1</td>\n",
       "      <td>3</td>\n",
       "      <td>0.0</td>\n",
       "      <td>456</td>\n",
       "    </tr>\n",
       "    <tr>\n",
       "      <th>2</th>\n",
       "      <td>502</td>\n",
       "      <td>0.0</td>\n",
       "      <td>0.0</td>\n",
       "      <td>42</td>\n",
       "      <td>8</td>\n",
       "      <td>159660.80</td>\n",
       "      <td>3</td>\n",
       "      <td>1</td>\n",
       "      <td>0</td>\n",
       "      <td>113931.57</td>\n",
       "      <td>1</td>\n",
       "      <td>1</td>\n",
       "      <td>3</td>\n",
       "      <td>0.0</td>\n",
       "      <td>377</td>\n",
       "    </tr>\n",
       "    <tr>\n",
       "      <th>3</th>\n",
       "      <td>699</td>\n",
       "      <td>0.0</td>\n",
       "      <td>0.0</td>\n",
       "      <td>39</td>\n",
       "      <td>1</td>\n",
       "      <td>0.00</td>\n",
       "      <td>2</td>\n",
       "      <td>0</td>\n",
       "      <td>0</td>\n",
       "      <td>93826.63</td>\n",
       "      <td>0</td>\n",
       "      <td>0</td>\n",
       "      <td>5</td>\n",
       "      <td>1.0</td>\n",
       "      <td>350</td>\n",
       "    </tr>\n",
       "    <tr>\n",
       "      <th>4</th>\n",
       "      <td>850</td>\n",
       "      <td>2.0</td>\n",
       "      <td>0.0</td>\n",
       "      <td>43</td>\n",
       "      <td>2</td>\n",
       "      <td>125510.82</td>\n",
       "      <td>1</td>\n",
       "      <td>1</td>\n",
       "      <td>1</td>\n",
       "      <td>79084.10</td>\n",
       "      <td>0</td>\n",
       "      <td>0</td>\n",
       "      <td>5</td>\n",
       "      <td>1.0</td>\n",
       "      <td>425</td>\n",
       "    </tr>\n",
       "  </tbody>\n",
       "</table>\n",
       "</div>"
      ],
      "text/plain": [
       "   CreditScore  Geography  Gender  Age  Tenure    Balance  NumOfProducts  \\\n",
       "0          619        0.0     0.0   42       2       0.00              1   \n",
       "1          608        2.0     0.0   41       1   83807.86              1   \n",
       "2          502        0.0     0.0   42       8  159660.80              3   \n",
       "3          699        0.0     0.0   39       1       0.00              2   \n",
       "4          850        2.0     0.0   43       2  125510.82              1   \n",
       "\n",
       "   HasCrCard  IsActiveMember  EstimatedSalary  Exited  Complain  \\\n",
       "0          1               1        101348.88       1         1   \n",
       "1          0               1        112542.58       0         1   \n",
       "2          1               0        113931.57       1         1   \n",
       "3          0               0         93826.63       0         0   \n",
       "4          1               1         79084.10       0         0   \n",
       "\n",
       "   Satisfaction Score  Card Type  Point Earned  \n",
       "0                   2        0.0           464  \n",
       "1                   3        0.0           456  \n",
       "2                   3        0.0           377  \n",
       "3                   5        1.0           350  \n",
       "4                   5        1.0           425  "
      ]
     },
     "execution_count": 14,
     "metadata": {},
     "output_type": "execute_result"
    }
   ],
   "source": [
    "df.head()"
   ]
  },
  {
   "cell_type": "code",
   "execution_count": 15,
   "metadata": {
    "execution": {
     "iopub.execute_input": "2023-06-25T06:21:25.938220Z",
     "iopub.status.busy": "2023-06-25T06:21:25.937759Z",
     "iopub.status.idle": "2023-06-25T06:21:26.062692Z",
     "shell.execute_reply": "2023-06-25T06:21:26.061172Z",
     "shell.execute_reply.started": "2023-06-25T06:21:25.938186Z"
    }
   },
   "outputs": [],
   "source": [
    "from sklearn.model_selection import train_test_split"
   ]
  },
  {
   "cell_type": "code",
   "execution_count": 16,
   "metadata": {
    "execution": {
     "iopub.execute_input": "2023-06-25T06:23:54.046194Z",
     "iopub.status.busy": "2023-06-25T06:23:54.045705Z",
     "iopub.status.idle": "2023-06-25T06:23:54.059200Z",
     "shell.execute_reply": "2023-06-25T06:23:54.057448Z",
     "shell.execute_reply.started": "2023-06-25T06:23:54.046159Z"
    }
   },
   "outputs": [],
   "source": [
    "X_train,X_test,y_train,y_test=train_test_split(df.drop(\"Exited\",axis=1),df[\"Exited\"],test_size=0.2,random_state=42)"
   ]
  },
  {
   "cell_type": "code",
   "execution_count": 17,
   "metadata": {
    "execution": {
     "iopub.execute_input": "2023-06-25T06:24:26.017204Z",
     "iopub.status.busy": "2023-06-25T06:24:26.016558Z",
     "iopub.status.idle": "2023-06-25T06:24:26.022320Z",
     "shell.execute_reply": "2023-06-25T06:24:26.020991Z",
     "shell.execute_reply.started": "2023-06-25T06:24:26.017166Z"
    }
   },
   "outputs": [],
   "source": [
    "from sklearn.preprocessing import MinMaxScaler"
   ]
  },
  {
   "cell_type": "code",
   "execution_count": 18,
   "metadata": {
    "execution": {
     "iopub.execute_input": "2023-06-25T06:27:07.984687Z",
     "iopub.status.busy": "2023-06-25T06:27:07.984172Z",
     "iopub.status.idle": "2023-06-25T06:27:08.005316Z",
     "shell.execute_reply": "2023-06-25T06:27:08.003841Z",
     "shell.execute_reply.started": "2023-06-25T06:27:07.984649Z"
    }
   },
   "outputs": [],
   "source": [
    "scaler=MinMaxScaler()\n",
    "Scaled_X_train=scaler.fit_transform(X_train)\n",
    "Scaled_X_test=scaler.fit_transform(X_test)"
   ]
  },
  {
   "cell_type": "code",
   "execution_count": 20,
   "metadata": {
    "execution": {
     "iopub.execute_input": "2023-06-25T06:34:14.178396Z",
     "iopub.status.busy": "2023-06-25T06:34:14.177890Z",
     "iopub.status.idle": "2023-06-25T06:34:14.189177Z",
     "shell.execute_reply": "2023-06-25T06:34:14.187626Z",
     "shell.execute_reply.started": "2023-06-25T06:34:14.178357Z"
    }
   },
   "outputs": [],
   "source": [
    "import tensorflow as tf\n",
    "from tensorflow import keras\n",
    "from tensorflow.keras.models import Sequential\n",
    "from tensorflow.keras.layers import Dense\n",
    "from tensorflow.keras.optimizers import Adam\n",
    "from tensorflow.keras.metrics import categorical_crossentropy"
   ]
  },
  {
   "cell_type": "code",
   "execution_count": 35,
   "metadata": {
    "execution": {
     "iopub.execute_input": "2023-06-25T06:51:10.400373Z",
     "iopub.status.busy": "2023-06-25T06:51:10.399836Z",
     "iopub.status.idle": "2023-06-25T06:51:10.462187Z",
     "shell.execute_reply": "2023-06-25T06:51:10.460839Z",
     "shell.execute_reply.started": "2023-06-25T06:51:10.400335Z"
    }
   },
   "outputs": [],
   "source": [
    "model=Sequential([\n",
    "    Dense(units=16,input_shape=(14,),activation='relu'),\n",
    "    Dense(units=32,activation='relu'),\n",
    "    Dense(units=2,activation='sigmoid')\n",
    "])"
   ]
  },
  {
   "cell_type": "code",
   "execution_count": 36,
   "metadata": {
    "execution": {
     "iopub.execute_input": "2023-06-25T06:51:11.964181Z",
     "iopub.status.busy": "2023-06-25T06:51:11.963728Z",
     "iopub.status.idle": "2023-06-25T06:51:11.992867Z",
     "shell.execute_reply": "2023-06-25T06:51:11.991355Z",
     "shell.execute_reply.started": "2023-06-25T06:51:11.964144Z"
    }
   },
   "outputs": [
    {
     "name": "stdout",
     "output_type": "stream",
     "text": [
      "Model: \"sequential_3\"\n",
      "_________________________________________________________________\n",
      " Layer (type)                Output Shape              Param #   \n",
      "=================================================================\n",
      " dense_9 (Dense)             (None, 16)                240       \n",
      "                                                                 \n",
      " dense_10 (Dense)            (None, 32)                544       \n",
      "                                                                 \n",
      " dense_11 (Dense)            (None, 2)                 66        \n",
      "                                                                 \n",
      "=================================================================\n",
      "Total params: 850\n",
      "Trainable params: 850\n",
      "Non-trainable params: 0\n",
      "_________________________________________________________________\n"
     ]
    }
   ],
   "source": [
    "model.summary()"
   ]
  },
  {
   "cell_type": "code",
   "execution_count": 37,
   "metadata": {
    "execution": {
     "iopub.execute_input": "2023-06-25T06:51:13.577358Z",
     "iopub.status.busy": "2023-06-25T06:51:13.576901Z",
     "iopub.status.idle": "2023-06-25T06:51:13.593492Z",
     "shell.execute_reply": "2023-06-25T06:51:13.592369Z",
     "shell.execute_reply.started": "2023-06-25T06:51:13.577325Z"
    }
   },
   "outputs": [],
   "source": [
    "model.compile(optimizer=Adam(learning_rate=0.01),loss='sparse_categorical_crossentropy',metrics=['Accuracy'])"
   ]
  },
  {
   "cell_type": "code",
   "execution_count": 44,
   "metadata": {
    "execution": {
     "iopub.execute_input": "2023-06-25T07:07:44.852061Z",
     "iopub.status.busy": "2023-06-25T07:07:44.850317Z",
     "iopub.status.idle": "2023-06-25T07:07:50.625154Z",
     "shell.execute_reply": "2023-06-25T07:07:50.623945Z",
     "shell.execute_reply.started": "2023-06-25T07:07:44.851992Z"
    }
   },
   "outputs": [
    {
     "name": "stdout",
     "output_type": "stream",
     "text": [
      "Epoch 1/30\n",
      "56/56 [==============================] - 0s 5ms/step - loss: 0.0038 - Accuracy: 0.9986 - val_loss: 0.0043 - val_Accuracy: 0.9987\n",
      "Epoch 2/30\n",
      "56/56 [==============================] - 0s 3ms/step - loss: 0.0034 - Accuracy: 0.9986 - val_loss: 0.0061 - val_Accuracy: 0.9987\n",
      "Epoch 3/30\n",
      "56/56 [==============================] - 0s 4ms/step - loss: 0.0031 - Accuracy: 0.9986 - val_loss: 0.0069 - val_Accuracy: 0.9987\n",
      "Epoch 4/30\n",
      "56/56 [==============================] - 0s 3ms/step - loss: 0.0049 - Accuracy: 0.9984 - val_loss: 0.0083 - val_Accuracy: 0.9987\n",
      "Epoch 5/30\n",
      "56/56 [==============================] - 0s 3ms/step - loss: 0.0042 - Accuracy: 0.9986 - val_loss: 0.0095 - val_Accuracy: 0.9962\n",
      "Epoch 6/30\n",
      "56/56 [==============================] - 0s 3ms/step - loss: 0.0040 - Accuracy: 0.9986 - val_loss: 0.0074 - val_Accuracy: 0.9975\n",
      "Epoch 7/30\n",
      "56/56 [==============================] - 0s 3ms/step - loss: 0.0026 - Accuracy: 0.9991 - val_loss: 0.0062 - val_Accuracy: 0.9983\n",
      "Epoch 8/30\n",
      "56/56 [==============================] - 0s 3ms/step - loss: 0.0029 - Accuracy: 0.9987 - val_loss: 0.0083 - val_Accuracy: 0.9987\n",
      "Epoch 9/30\n",
      "56/56 [==============================] - 0s 4ms/step - loss: 0.0023 - Accuracy: 0.9989 - val_loss: 0.0092 - val_Accuracy: 0.9987\n",
      "Epoch 10/30\n",
      "56/56 [==============================] - 0s 3ms/step - loss: 0.0026 - Accuracy: 0.9987 - val_loss: 0.0079 - val_Accuracy: 0.9987\n",
      "Epoch 11/30\n",
      "56/56 [==============================] - 0s 3ms/step - loss: 0.0028 - Accuracy: 0.9989 - val_loss: 0.0069 - val_Accuracy: 0.9979\n",
      "Epoch 12/30\n",
      "56/56 [==============================] - 0s 3ms/step - loss: 0.0020 - Accuracy: 0.9991 - val_loss: 0.0089 - val_Accuracy: 0.9971\n",
      "Epoch 13/30\n",
      "56/56 [==============================] - 0s 4ms/step - loss: 0.0026 - Accuracy: 0.9991 - val_loss: 0.0145 - val_Accuracy: 0.9971\n",
      "Epoch 14/30\n",
      "56/56 [==============================] - 0s 3ms/step - loss: 0.0120 - Accuracy: 0.9986 - val_loss: 0.0081 - val_Accuracy: 0.9979\n",
      "Epoch 15/30\n",
      "56/56 [==============================] - 0s 3ms/step - loss: 0.0033 - Accuracy: 0.9989 - val_loss: 0.0154 - val_Accuracy: 0.9983\n",
      "Epoch 16/30\n",
      "56/56 [==============================] - 0s 3ms/step - loss: 0.0048 - Accuracy: 0.9984 - val_loss: 0.0113 - val_Accuracy: 0.9983\n",
      "Epoch 17/30\n",
      "56/56 [==============================] - 0s 3ms/step - loss: 0.0022 - Accuracy: 0.9993 - val_loss: 0.0129 - val_Accuracy: 0.9983\n",
      "Epoch 18/30\n",
      "56/56 [==============================] - 0s 3ms/step - loss: 0.0028 - Accuracy: 0.9991 - val_loss: 0.0139 - val_Accuracy: 0.9979\n",
      "Epoch 19/30\n",
      "56/56 [==============================] - 0s 3ms/step - loss: 0.0032 - Accuracy: 0.9989 - val_loss: 0.0134 - val_Accuracy: 0.9983\n",
      "Epoch 20/30\n",
      "56/56 [==============================] - 0s 3ms/step - loss: 0.0033 - Accuracy: 0.9991 - val_loss: 0.0136 - val_Accuracy: 0.9979\n",
      "Epoch 21/30\n",
      "56/56 [==============================] - 0s 3ms/step - loss: 0.0020 - Accuracy: 0.9995 - val_loss: 0.0147 - val_Accuracy: 0.9983\n",
      "Epoch 22/30\n",
      "56/56 [==============================] - 0s 3ms/step - loss: 0.0016 - Accuracy: 0.9996 - val_loss: 0.0147 - val_Accuracy: 0.9983\n",
      "Epoch 23/30\n",
      "56/56 [==============================] - 0s 3ms/step - loss: 0.0011 - Accuracy: 0.9998 - val_loss: 0.0149 - val_Accuracy: 0.9979\n",
      "Epoch 24/30\n",
      "56/56 [==============================] - 0s 3ms/step - loss: 0.0016 - Accuracy: 0.9996 - val_loss: 0.0150 - val_Accuracy: 0.9975\n",
      "Epoch 25/30\n",
      "56/56 [==============================] - 0s 3ms/step - loss: 0.0036 - Accuracy: 0.9984 - val_loss: 0.0198 - val_Accuracy: 0.9942\n",
      "Epoch 26/30\n",
      "56/56 [==============================] - 0s 3ms/step - loss: 0.0036 - Accuracy: 0.9989 - val_loss: 0.0144 - val_Accuracy: 0.9979\n",
      "Epoch 27/30\n",
      "56/56 [==============================] - 0s 3ms/step - loss: 0.0027 - Accuracy: 0.9993 - val_loss: 0.0142 - val_Accuracy: 0.9979\n",
      "Epoch 28/30\n",
      "56/56 [==============================] - 0s 3ms/step - loss: 0.0016 - Accuracy: 0.9995 - val_loss: 0.0126 - val_Accuracy: 0.9983\n",
      "Epoch 29/30\n",
      "56/56 [==============================] - 0s 3ms/step - loss: 0.0012 - Accuracy: 0.9995 - val_loss: 0.0148 - val_Accuracy: 0.9979\n",
      "Epoch 30/30\n",
      "56/56 [==============================] - 0s 3ms/step - loss: 9.0840e-04 - Accuracy: 0.9996 - val_loss: 0.0149 - val_Accuracy: 0.9983\n"
     ]
    }
   ],
   "source": [
    "history=model.fit(x=Scaled_X_train,y=y_train,validation_split=0.3,batch_size=100,epochs=30)"
   ]
  },
  {
   "cell_type": "code",
   "execution_count": 45,
   "metadata": {
    "execution": {
     "iopub.execute_input": "2023-06-25T07:07:55.773398Z",
     "iopub.status.busy": "2023-06-25T07:07:55.772912Z",
     "iopub.status.idle": "2023-06-25T07:07:55.893059Z",
     "shell.execute_reply": "2023-06-25T07:07:55.891818Z",
     "shell.execute_reply.started": "2023-06-25T07:07:55.773359Z"
    }
   },
   "outputs": [
    {
     "name": "stdout",
     "output_type": "stream",
     "text": [
      "20/20 [==============================] - 0s 2ms/step\n"
     ]
    }
   ],
   "source": [
    "predictions=model.predict(x=Scaled_X_test,batch_size=100)"
   ]
  },
  {
   "cell_type": "code",
   "execution_count": 46,
   "metadata": {
    "execution": {
     "iopub.execute_input": "2023-06-25T07:07:57.531470Z",
     "iopub.status.busy": "2023-06-25T07:07:57.531047Z",
     "iopub.status.idle": "2023-06-25T07:07:57.872906Z",
     "shell.execute_reply": "2023-06-25T07:07:57.871686Z",
     "shell.execute_reply.started": "2023-06-25T07:07:57.531439Z"
    }
   },
   "outputs": [
    {
     "data": {
      "image/png": "[encoded data removed]",
      "text/plain": [
       "<Figure size 640x480 with 1 Axes>"
      ]
     },
     "metadata": {},
     "output_type": "display_data"
    }
   ],
   "source": [
    "from matplotlib import pyplot as plt\n",
    "plt.plot(history.history['Accuracy'])\n",
    "plt.plot(history.history['val_Accuracy'])\n",
    "plt.title('model accuracy')\n",
    "plt.ylabel('accuracy')\n",
    "plt.xlabel('epoch')\n",
    "plt.legend(['train', 'val'], loc='upper left')\n",
    "plt.show()"
   ]
  },
  {
   "cell_type": "code",
   "execution_count": 47,
   "metadata": {
    "execution": {
     "iopub.execute_input": "2023-06-25T07:08:55.739623Z",
     "iopub.status.busy": "2023-06-25T07:08:55.739101Z",
     "iopub.status.idle": "2023-06-25T07:08:56.111691Z",
     "shell.execute_reply": "2023-06-25T07:08:56.110477Z",
     "shell.execute_reply.started": "2023-06-25T07:08:55.739586Z"
    }
   },
   "outputs": [
    {
     "data": {
      "image/png": "[encoded data removed]",
      "text/plain": [
       "<Figure size 640x480 with 1 Axes>"
      ]
     },
     "metadata": {},
     "output_type": "display_data"
    }
   ],
   "source": [
    "plt.plot(history.history['loss'])\n",
    "plt.plot(history.history['val_loss'])\n",
    "plt.title('model loss')\n",
    "plt.ylabel('loss')\n",
    "plt.xlabel('epoch')\n",
    "plt.legend(['train', 'val'], loc='upper left')\n",
    "plt.show()"
   ]
  },
  {
   "cell_type": "code",
   "execution_count": 51,
   "metadata": {
    "execution": {
     "iopub.execute_input": "2023-06-25T07:15:40.910144Z",
     "iopub.status.busy": "2023-06-25T07:15:40.909602Z",
     "iopub.status.idle": "2023-06-25T07:15:40.971257Z",
     "shell.execute_reply": "2023-06-25T07:15:40.969921Z",
     "shell.execute_reply.started": "2023-06-25T07:15:40.910104Z"
    }
   },
   "outputs": [],
   "source": [
    "model1=Sequential([\n",
    "    Dense(units=16,input_shape=(14,),activation='relu',kernel_regularizer=tf.keras.regularizers.l2(0.001)),\n",
    "    Dense(units=32,activation='relu',kernel_regularizer=tf.keras.regularizers.l2(0.001)),\n",
    "    Dense(units=2,activation='sigmoid')\n",
    "])"
   ]
  },
  {
   "cell_type": "code",
   "execution_count": 52,
   "metadata": {
    "execution": {
     "iopub.execute_input": "2023-06-25T07:16:01.825987Z",
     "iopub.status.busy": "2023-06-25T07:16:01.825478Z",
     "iopub.status.idle": "2023-06-25T07:16:01.850567Z",
     "shell.execute_reply": "2023-06-25T07:16:01.848937Z",
     "shell.execute_reply.started": "2023-06-25T07:16:01.825951Z"
    }
   },
   "outputs": [
    {
     "name": "stdout",
     "output_type": "stream",
     "text": [
      "Model: \"sequential_4\"\n",
      "_________________________________________________________________\n",
      " Layer (type)                Output Shape              Param #   \n",
      "=================================================================\n",
      " dense_12 (Dense)            (None, 16)                240       \n",
      "                                                                 \n",
      " dense_13 (Dense)            (None, 32)                544       \n",
      "                                                                 \n",
      " dense_14 (Dense)            (None, 2)                 66        \n",
      "                                                                 \n",
      "=================================================================\n",
      "Total params: 850\n",
      "Trainable params: 850\n",
      "Non-trainable params: 0\n",
      "_________________________________________________________________\n"
     ]
    }
   ],
   "source": [
    "model1.summary()"
   ]
  },
  {
   "cell_type": "code",
   "execution_count": 53,
   "metadata": {
    "execution": {
     "iopub.execute_input": "2023-06-25T07:16:32.445658Z",
     "iopub.status.busy": "2023-06-25T07:16:32.445084Z",
     "iopub.status.idle": "2023-06-25T07:16:32.462928Z",
     "shell.execute_reply": "2023-06-25T07:16:32.461441Z",
     "shell.execute_reply.started": "2023-06-25T07:16:32.445616Z"
    }
   },
   "outputs": [],
   "source": [
    "model1.compile(optimizer=Adam(learning_rate=0.01),loss='sparse_categorical_crossentropy',metrics=['Accuracy'])"
   ]
  },
  {
   "cell_type": "code",
   "execution_count": 55,
   "metadata": {
    "execution": {
     "iopub.execute_input": "2023-06-25T07:17:50.886009Z",
     "iopub.status.busy": "2023-06-25T07:17:50.884772Z",
     "iopub.status.idle": "2023-06-25T07:17:57.049023Z",
     "shell.execute_reply": "2023-06-25T07:17:57.048016Z",
     "shell.execute_reply.started": "2023-06-25T07:17:50.885967Z"
    }
   },
   "outputs": [
    {
     "name": "stdout",
     "output_type": "stream",
     "text": [
      "Epoch 1/30\n",
      "56/56 [==============================] - 1s 6ms/step - loss: 0.2064 - Accuracy: 0.9182 - val_loss: 0.0456 - val_Accuracy: 0.9983\n",
      "Epoch 2/30\n",
      "56/56 [==============================] - 0s 3ms/step - loss: 0.0375 - Accuracy: 0.9984 - val_loss: 0.0348 - val_Accuracy: 0.9983\n",
      "Epoch 3/30\n",
      "56/56 [==============================] - 0s 3ms/step - loss: 0.0293 - Accuracy: 0.9986 - val_loss: 0.0283 - val_Accuracy: 0.9983\n",
      "Epoch 4/30\n",
      "56/56 [==============================] - 0s 3ms/step - loss: 0.0254 - Accuracy: 0.9986 - val_loss: 0.0253 - val_Accuracy: 0.9983\n",
      "Epoch 5/30\n",
      "56/56 [==============================] - 0s 3ms/step - loss: 0.0218 - Accuracy: 0.9986 - val_loss: 0.0239 - val_Accuracy: 0.9983\n",
      "Epoch 6/30\n",
      "56/56 [==============================] - 0s 3ms/step - loss: 0.0199 - Accuracy: 0.9984 - val_loss: 0.0228 - val_Accuracy: 0.9983\n",
      "Epoch 7/30\n",
      "56/56 [==============================] - 0s 3ms/step - loss: 0.0188 - Accuracy: 0.9986 - val_loss: 0.0204 - val_Accuracy: 0.9983\n",
      "Epoch 8/30\n",
      "56/56 [==============================] - 0s 3ms/step - loss: 0.0176 - Accuracy: 0.9986 - val_loss: 0.0195 - val_Accuracy: 0.9983\n",
      "Epoch 9/30\n",
      "56/56 [==============================] - 0s 3ms/step - loss: 0.0167 - Accuracy: 0.9986 - val_loss: 0.0206 - val_Accuracy: 0.9983\n",
      "Epoch 10/30\n",
      "56/56 [==============================] - 0s 3ms/step - loss: 0.0160 - Accuracy: 0.9986 - val_loss: 0.0186 - val_Accuracy: 0.9983\n",
      "Epoch 11/30\n",
      "56/56 [==============================] - 0s 3ms/step - loss: 0.0163 - Accuracy: 0.9986 - val_loss: 0.0180 - val_Accuracy: 0.9983\n",
      "Epoch 12/30\n",
      "56/56 [==============================] - 0s 3ms/step - loss: 0.0158 - Accuracy: 0.9986 - val_loss: 0.0180 - val_Accuracy: 0.9983\n",
      "Epoch 13/30\n",
      "56/56 [==============================] - 0s 3ms/step - loss: 0.0154 - Accuracy: 0.9986 - val_loss: 0.0187 - val_Accuracy: 0.9983\n",
      "Epoch 14/30\n",
      "56/56 [==============================] - 0s 3ms/step - loss: 0.0155 - Accuracy: 0.9984 - val_loss: 0.0189 - val_Accuracy: 0.9983\n",
      "Epoch 15/30\n",
      "56/56 [==============================] - 0s 3ms/step - loss: 0.0153 - Accuracy: 0.9986 - val_loss: 0.0176 - val_Accuracy: 0.9983\n",
      "Epoch 16/30\n",
      "56/56 [==============================] - 0s 3ms/step - loss: 0.0151 - Accuracy: 0.9986 - val_loss: 0.0184 - val_Accuracy: 0.9983\n",
      "Epoch 17/30\n",
      "56/56 [==============================] - 0s 3ms/step - loss: 0.0145 - Accuracy: 0.9986 - val_loss: 0.0173 - val_Accuracy: 0.9983\n",
      "Epoch 18/30\n",
      "56/56 [==============================] - 0s 3ms/step - loss: 0.0143 - Accuracy: 0.9986 - val_loss: 0.0165 - val_Accuracy: 0.9983\n",
      "Epoch 19/30\n",
      "56/56 [==============================] - 0s 3ms/step - loss: 0.0136 - Accuracy: 0.9986 - val_loss: 0.0165 - val_Accuracy: 0.9983\n",
      "Epoch 20/30\n",
      "56/56 [==============================] - 0s 3ms/step - loss: 0.0135 - Accuracy: 0.9986 - val_loss: 0.0163 - val_Accuracy: 0.9983\n",
      "Epoch 21/30\n",
      "56/56 [==============================] - 0s 3ms/step - loss: 0.0136 - Accuracy: 0.9986 - val_loss: 0.0171 - val_Accuracy: 0.9983\n",
      "Epoch 22/30\n",
      "56/56 [==============================] - 0s 3ms/step - loss: 0.0136 - Accuracy: 0.9986 - val_loss: 0.0176 - val_Accuracy: 0.9983\n",
      "Epoch 23/30\n",
      "56/56 [==============================] - 0s 3ms/step - loss: 0.0143 - Accuracy: 0.9986 - val_loss: 0.0184 - val_Accuracy: 0.9983\n",
      "Epoch 24/30\n",
      "56/56 [==============================] - 0s 3ms/step - loss: 0.0137 - Accuracy: 0.9986 - val_loss: 0.0166 - val_Accuracy: 0.9983\n",
      "Epoch 25/30\n",
      "56/56 [==============================] - 0s 3ms/step - loss: 0.0134 - Accuracy: 0.9986 - val_loss: 0.0164 - val_Accuracy: 0.9983\n",
      "Epoch 26/30\n",
      "56/56 [==============================] - 0s 3ms/step - loss: 0.0134 - Accuracy: 0.9986 - val_loss: 0.0175 - val_Accuracy: 0.9983\n",
      "Epoch 27/30\n",
      "56/56 [==============================] - 0s 3ms/step - loss: 0.0133 - Accuracy: 0.9986 - val_loss: 0.0165 - val_Accuracy: 0.9983\n",
      "Epoch 28/30\n",
      "56/56 [==============================] - 0s 3ms/step - loss: 0.0145 - Accuracy: 0.9986 - val_loss: 0.0191 - val_Accuracy: 0.9983\n",
      "Epoch 29/30\n",
      "56/56 [==============================] - 0s 3ms/step - loss: 0.0133 - Accuracy: 0.9986 - val_loss: 0.0186 - val_Accuracy: 0.9983\n",
      "Epoch 30/30\n",
      "56/56 [==============================] - 0s 3ms/step - loss: 0.0129 - Accuracy: 0.9986 - val_loss: 0.0165 - val_Accuracy: 0.9983\n"
     ]
    }
   ],
   "source": [
    "history1=model1.fit(x=Scaled_X_train,y=y_train,validation_split=0.3,batch_size=100,epochs=30)"
   ]
  },
  {
   "cell_type": "code",
   "execution_count": 57,
   "metadata": {
    "execution": {
     "iopub.execute_input": "2023-06-25T07:21:51.229879Z",
     "iopub.status.busy": "2023-06-25T07:21:51.228335Z",
     "iopub.status.idle": "2023-06-25T07:21:51.587746Z",
     "shell.execute_reply": "2023-06-25T07:21:51.586573Z",
     "shell.execute_reply.started": "2023-06-25T07:21:51.229826Z"
    }
   },
   "outputs": [
    {
     "data": {
      "image/png": "[encoded data removed]",
      "text/plain": [
       "<Figure size 640x480 with 1 Axes>"
      ]
     },
     "metadata": {},
     "output_type": "display_data"
    }
   ],
   "source": [
    "plt.plot(history1.history['Accuracy'])\n",
    "plt.plot(history1.history['val_Accuracy'])\n",
    "plt.title('model accuracy')\n",
    "plt.ylabel('accuracy')\n",
    "plt.xlabel('epoch')\n",
    "plt.legend(['train', 'val'], loc='upper left')\n",
    "plt.show()"
   ]
  },
  {
   "cell_type": "code",
   "execution_count": 58,
   "metadata": {
    "execution": {
     "iopub.execute_input": "2023-06-25T07:22:26.678662Z",
     "iopub.status.busy": "2023-06-25T07:22:26.678105Z",
     "iopub.status.idle": "2023-06-25T07:22:27.071563Z",
     "shell.execute_reply": "2023-06-25T07:22:27.069810Z",
     "shell.execute_reply.started": "2023-06-25T07:22:26.678620Z"
    }
   },
   "outputs": [
    {
     "data": {
      "image/png": "[encoded data removed]",
      "text/plain": [
       "<Figure size 640x480 with 1 Axes>"
      ]
     },
     "metadata": {},
     "output_type": "display_data"
    }
   ],
   "source": [
    "plt.plot(history1.history['loss'])\n",
    "plt.plot(history1.history['val_loss'])\n",
    "plt.title('model loss')\n",
    "plt.ylabel('loss')\n",
    "plt.xlabel('epoch')\n",
    "plt.legend(['train', 'val'], loc='upper left')\n",
    "plt.show()"
   ]
  },
  {
   "cell_type": "code",
   "execution_count": 60,
   "metadata": {
    "execution": {
     "iopub.execute_input": "2023-06-25T07:25:18.403403Z",
     "iopub.status.busy": "2023-06-25T07:25:18.402925Z",
     "iopub.status.idle": "2023-06-25T07:25:18.567291Z",
     "shell.execute_reply": "2023-06-25T07:25:18.566265Z",
     "shell.execute_reply.started": "2023-06-25T07:25:18.403364Z"
    }
   },
   "outputs": [
    {
     "name": "stdout",
     "output_type": "stream",
     "text": [
      "20/20 [==============================] - 0s 1ms/step\n"
     ]
    }
   ],
   "source": [
    "predct=model1.predict(x=Scaled_X_test,batch_size=100)"
   ]
  },
  {
   "cell_type": "code",
   "execution_count": 64,
   "metadata": {
    "execution": {
     "iopub.execute_input": "2023-06-25T07:28:11.827472Z",
     "iopub.status.busy": "2023-06-25T07:28:11.826371Z",
     "iopub.status.idle": "2023-06-25T07:28:11.833091Z",
     "shell.execute_reply": "2023-06-25T07:28:11.831985Z",
     "shell.execute_reply.started": "2023-06-25T07:28:11.827427Z"
    }
   },
   "outputs": [],
   "source": [
    "rounded_predictions=np.argmax(predct,axis=-1)"
   ]
  },
  {
   "cell_type": "code",
   "execution_count": 61,
   "metadata": {
    "execution": {
     "iopub.execute_input": "2023-06-25T07:25:23.823147Z",
     "iopub.status.busy": "2023-06-25T07:25:23.822637Z",
     "iopub.status.idle": "2023-06-25T07:25:23.830994Z",
     "shell.execute_reply": "2023-06-25T07:25:23.829530Z",
     "shell.execute_reply.started": "2023-06-25T07:25:23.823110Z"
    }
   },
   "outputs": [],
   "source": [
    "%matplotlib inline\n",
    "from sklearn.metrics import confusion_matrix\n",
    "import itertools"
   ]
  },
  {
   "cell_type": "code",
   "execution_count": 65,
   "metadata": {
    "execution": {
     "iopub.execute_input": "2023-06-25T07:28:39.713625Z",
     "iopub.status.busy": "2023-06-25T07:28:39.713100Z",
     "iopub.status.idle": "2023-06-25T07:28:39.724402Z",
     "shell.execute_reply": "2023-06-25T07:28:39.722710Z",
     "shell.execute_reply.started": "2023-06-25T07:28:39.713587Z"
    }
   },
   "outputs": [],
   "source": [
    "cm=confusion_matrix(y_true=y_test,y_pred=rounded_predictions)"
   ]
  },
  {
   "cell_type": "code",
   "execution_count": 66,
   "metadata": {
    "execution": {
     "iopub.execute_input": "2023-06-25T07:29:20.259852Z",
     "iopub.status.busy": "2023-06-25T07:29:20.258259Z",
     "iopub.status.idle": "2023-06-25T07:29:20.269998Z",
     "shell.execute_reply": "2023-06-25T07:29:20.268660Z",
     "shell.execute_reply.started": "2023-06-25T07:29:20.259801Z"
    }
   },
   "outputs": [],
   "source": [
    "def plot_confusion_matrix(cm,classes,normalize=False,title='Confusion Matrix',cmap=plt.cm.Blues):\n",
    "    if normalize:\n",
    "        cm=cm.astype('float')/cm.sum(axis=1)[:,np.newaxis]\n",
    "        print(\"Normalized confusion matrix\")\n",
    "    else:\n",
    "        print('confusion matrix without normalization')\n",
    "    print(cm)\n",
    "    fig, ax=plt.subplots()\n",
    "    im=ax.imshow(cm,interpolation='nearest',cmap=cmap)\n",
    "    ax.figure.colorbar(im,ax=ax)\n",
    "    ax.set(xticks=np.arange(cm.shape[1]),\n",
    "          yticks=np.arange(cm.shape[0]),\n",
    "          xticklabels=classes,yticklabels=classes,\n",
    "          title=title,\n",
    "          ylabel='True label',\n",
    "          xlabel='Predicted label')"
   ]
  },
  {
   "cell_type": "code",
   "execution_count": 67,
   "metadata": {
    "execution": {
     "iopub.execute_input": "2023-06-25T07:30:03.960294Z",
     "iopub.status.busy": "2023-06-25T07:30:03.959842Z",
     "iopub.status.idle": "2023-06-25T07:30:04.324682Z",
     "shell.execute_reply": "2023-06-25T07:30:04.323021Z",
     "shell.execute_reply.started": "2023-06-25T07:30:03.960261Z"
    }
   },
   "outputs": [
    {
     "name": "stdout",
     "output_type": "stream",
     "text": [
      "confusion matrix without normalization\n",
      "[[1606    1]\n",
      " [   1  392]]\n"
     ]
    },
    {
     "data": {
      "image/png": "[encoded data removed]",
      "text/plain": [
       "<Figure size 640x480 with 2 Axes>"
      ]
     },
     "metadata": {},
     "output_type": "display_data"
    }
   ],
   "source": [
    "cm_plot_labels=['Exited','Not Exited']\n",
    "plot_confusion_matrix(cm=cm,classes=cm_plot_labels)"
   ]
  },
  {
   "cell_type": "code",
   "execution_count": null,
   "metadata": {},
   "outputs": [],
   "source": []
  }
 ],
 "metadata": {
  "kernelspec": {
   "display_name": "Python 3 (ipykernel)",
   "language": "python",
   "name": "python3"
  },
  "language_info": {
   "codemirror_mode": {
    "name": "ipython",
    "version": 3
   },
   "file_extension": ".py",
   "mimetype": "text/x-python",
   "name": "python",
   "nbconvert_exporter": "python",
   "pygments_lexer": "ipython3",
   "version": "3.9.13"
  }
 },
 "nbformat": 4,
 "nbformat_minor": 4
}
